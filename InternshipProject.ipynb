{
  "nbformat": 4,
  "nbformat_minor": 0,
  "metadata": {
    "colab": {
      "name": "InternshipProject",
      "provenance": [],
      "collapsed_sections": []
    },
    "kernelspec": {
      "name": "python3",
      "display_name": "Python 3"
    }
  },
  "cells": [
    {
      "cell_type": "markdown",
      "metadata": {
        "id": "f-M2Nn9Y4Isa",
        "colab_type": "text"
      },
      "source": [
        "**1. IMPORTING THE DATA SETS AND LIBRARIES**"
      ]
    },
    {
      "cell_type": "markdown",
      "metadata": {
        "id": "xR4M08Exq7jX",
        "colab_type": "text"
      },
      "source": [
        "**1.1 IMPORTING THE REQUIRED LIBRARIES FOR EDA**"
      ]
    },
    {
      "cell_type": "code",
      "metadata": {
        "id": "WlUgs-nq3jfA",
        "colab_type": "code",
        "colab": {}
      },
      "source": [
        "import numpy as np\n",
        "import pandas as pd\n",
        "import seaborn as sns\n",
        "import matplotlib.pyplot as plt\n",
        "from sklearn import preprocessing\n",
        "from sklearn.linear_model import LinearRegression\n",
        "from sklearn.model_selection import train_test_split\n",
        "from sklearn import metrics\n",
        "%matplotlib inline"
      ],
      "execution_count": 332,
      "outputs": []
    },
    {
      "cell_type": "markdown",
      "metadata": {
        "id": "dSOUQpemrMAH",
        "colab_type": "text"
      },
      "source": [
        "**1.2 LOADING THE DATA INTO THE DATAFRAME**"
      ]
    },
    {
      "cell_type": "code",
      "metadata": {
        "id": "Tj6f-t0mrKxv",
        "colab_type": "code",
        "colab": {}
      },
      "source": [
        "df = pd.read_excel(\"Bank_Personal_Loan_Modelling.xlsx\",sheet_name='Data')"
      ],
      "execution_count": 333,
      "outputs": []
    },
    {
      "cell_type": "code",
      "metadata": {
        "id": "T3Z-K2gjBnaA",
        "colab_type": "code",
        "colab": {}
      },
      "source": [
        "# Displaying the top 5 rows\n",
        "df.head(5)"
      ],
      "execution_count": null,
      "outputs": []
    },
    {
      "cell_type": "code",
      "metadata": {
        "id": "_fnAySKUBr_Q",
        "colab_type": "code",
        "colab": {}
      },
      "source": [
        "# Displaying the bottom 5 rows\n",
        "df.tail(5)"
      ],
      "execution_count": null,
      "outputs": []
    },
    {
      "cell_type": "markdown",
      "metadata": {
        "id": "4Lgz21HQAn4V",
        "colab_type": "text"
      },
      "source": [
        "**1.2 CHECKING DATATYPES AND STATISTICAL SUMMARY**"
      ]
    },
    {
      "cell_type": "code",
      "metadata": {
        "id": "7t5pF6CDA8S4",
        "colab_type": "code",
        "colab": {}
      },
      "source": [
        "df.info()"
      ],
      "execution_count": null,
      "outputs": []
    },
    {
      "cell_type": "code",
      "metadata": {
        "id": "1tO1kxv4BFvZ",
        "colab_type": "code",
        "colab": {}
      },
      "source": [
        "df.describe()"
      ],
      "execution_count": null,
      "outputs": []
    },
    {
      "cell_type": "code",
      "metadata": {
        "id": "ABaxAC0cB5V4",
        "colab_type": "code",
        "colab": {}
      },
      "source": [
        "df.shape"
      ],
      "execution_count": null,
      "outputs": []
    },
    {
      "cell_type": "code",
      "metadata": {
        "id": "XEeX5EyCCxix",
        "colab_type": "code",
        "colab": {}
      },
      "source": [
        "pd.isna(df)"
      ],
      "execution_count": null,
      "outputs": []
    },
    {
      "cell_type": "code",
      "metadata": {
        "id": "aXIdQQ6zH-gw",
        "colab_type": "code",
        "colab": {}
      },
      "source": [
        "df.isnull().sum()"
      ],
      "execution_count": null,
      "outputs": []
    },
    {
      "cell_type": "code",
      "metadata": {
        "id": "3z7xugcLUvpV",
        "colab_type": "code",
        "colab": {}
      },
      "source": [
        "for column in df.columns:\n",
        "    print(f' Unique values in {column} is {len(df[column].unique())}')"
      ],
      "execution_count": null,
      "outputs": []
    },
    {
      "cell_type": "markdown",
      "metadata": {
        "id": "TVymebXlEmp4",
        "colab_type": "text"
      },
      "source": [
        "**2.CHECKING IF DATA IS REQUIRED TO BE CLEANED FOR ANY OF THE** **VARIABLES** "
      ]
    },
    {
      "cell_type": "markdown",
      "metadata": {
        "id": "f2eVhDDkskfu",
        "colab_type": "text"
      },
      "source": [
        "**2.1 Dropping Irrelevant Columns**"
      ]
    },
    {
      "cell_type": "markdown",
      "metadata": {
        "id": "IlrPVI5rtfYV",
        "colab_type": "text"
      },
      "source": [
        "This step is certainly needed in the EDA becuase sometimes there would be columns of no use and dropping them would be relevant. Over here the columns ID and ZIP Code may not be relevant to play an important role in giving loan to a borrower."
      ]
    },
    {
      "cell_type": "code",
      "metadata": {
        "id": "fEvQmWoUszPW",
        "colab_type": "code",
        "colab": {
          "base_uri": "https://localhost:8080/",
          "height": 204
        },
        "outputId": "e3ddd435-3da0-47d0-ca1a-b74a4a76150e"
      },
      "source": [
        "df=df.drop(['ID','ZIP Code'],axis=1)\n",
        "df.head(5)"
      ],
      "execution_count": 334,
      "outputs": [
        {
          "output_type": "execute_result",
          "data": {
            "text/html": [
              "<div>\n",
              "<style scoped>\n",
              "    .dataframe tbody tr th:only-of-type {\n",
              "        vertical-align: middle;\n",
              "    }\n",
              "\n",
              "    .dataframe tbody tr th {\n",
              "        vertical-align: top;\n",
              "    }\n",
              "\n",
              "    .dataframe thead th {\n",
              "        text-align: right;\n",
              "    }\n",
              "</style>\n",
              "<table border=\"1\" class=\"dataframe\">\n",
              "  <thead>\n",
              "    <tr style=\"text-align: right;\">\n",
              "      <th></th>\n",
              "      <th>Age</th>\n",
              "      <th>Experience</th>\n",
              "      <th>Income</th>\n",
              "      <th>Family</th>\n",
              "      <th>CCAvg</th>\n",
              "      <th>Education</th>\n",
              "      <th>Mortgage</th>\n",
              "      <th>Personal Loan</th>\n",
              "      <th>Securities Account</th>\n",
              "      <th>CD Account</th>\n",
              "      <th>Online</th>\n",
              "      <th>CreditCard</th>\n",
              "    </tr>\n",
              "  </thead>\n",
              "  <tbody>\n",
              "    <tr>\n",
              "      <th>0</th>\n",
              "      <td>25</td>\n",
              "      <td>1</td>\n",
              "      <td>49</td>\n",
              "      <td>4</td>\n",
              "      <td>1.6</td>\n",
              "      <td>1</td>\n",
              "      <td>0</td>\n",
              "      <td>0</td>\n",
              "      <td>1</td>\n",
              "      <td>0</td>\n",
              "      <td>0</td>\n",
              "      <td>0</td>\n",
              "    </tr>\n",
              "    <tr>\n",
              "      <th>1</th>\n",
              "      <td>45</td>\n",
              "      <td>19</td>\n",
              "      <td>34</td>\n",
              "      <td>3</td>\n",
              "      <td>1.5</td>\n",
              "      <td>1</td>\n",
              "      <td>0</td>\n",
              "      <td>0</td>\n",
              "      <td>1</td>\n",
              "      <td>0</td>\n",
              "      <td>0</td>\n",
              "      <td>0</td>\n",
              "    </tr>\n",
              "    <tr>\n",
              "      <th>2</th>\n",
              "      <td>39</td>\n",
              "      <td>15</td>\n",
              "      <td>11</td>\n",
              "      <td>1</td>\n",
              "      <td>1.0</td>\n",
              "      <td>1</td>\n",
              "      <td>0</td>\n",
              "      <td>0</td>\n",
              "      <td>0</td>\n",
              "      <td>0</td>\n",
              "      <td>0</td>\n",
              "      <td>0</td>\n",
              "    </tr>\n",
              "    <tr>\n",
              "      <th>3</th>\n",
              "      <td>35</td>\n",
              "      <td>9</td>\n",
              "      <td>100</td>\n",
              "      <td>1</td>\n",
              "      <td>2.7</td>\n",
              "      <td>2</td>\n",
              "      <td>0</td>\n",
              "      <td>0</td>\n",
              "      <td>0</td>\n",
              "      <td>0</td>\n",
              "      <td>0</td>\n",
              "      <td>0</td>\n",
              "    </tr>\n",
              "    <tr>\n",
              "      <th>4</th>\n",
              "      <td>35</td>\n",
              "      <td>8</td>\n",
              "      <td>45</td>\n",
              "      <td>4</td>\n",
              "      <td>1.0</td>\n",
              "      <td>2</td>\n",
              "      <td>0</td>\n",
              "      <td>0</td>\n",
              "      <td>0</td>\n",
              "      <td>0</td>\n",
              "      <td>0</td>\n",
              "      <td>1</td>\n",
              "    </tr>\n",
              "  </tbody>\n",
              "</table>\n",
              "</div>"
            ],
            "text/plain": [
              "   Age  Experience  Income  ...  CD Account  Online  CreditCard\n",
              "0   25           1      49  ...           0       0           0\n",
              "1   45          19      34  ...           0       0           0\n",
              "2   39          15      11  ...           0       0           0\n",
              "3   35           9     100  ...           0       0           0\n",
              "4   35           8      45  ...           0       0           1\n",
              "\n",
              "[5 rows x 12 columns]"
            ]
          },
          "metadata": {
            "tags": []
          },
          "execution_count": 334
        }
      ]
    },
    {
      "cell_type": "markdown",
      "metadata": {
        "id": "C4dPp5eN7pdg",
        "colab_type": "text"
      },
      "source": [
        "In a machine learning model, it is neccessary to seperate signal from the noise. Hence ID column which definitely does not have any signal is being dropped. Also, the experience column seems to have some negative values. We can replace and impute those values, but here the column is dropped since it is highly correlated with age column."
      ]
    },
    {
      "cell_type": "code",
      "metadata": {
        "id": "Rq_e6v2u5bn9",
        "colab_type": "code",
        "colab": {}
      },
      "source": [
        "experience=df['Experience']\n",
        "age=df['Age']\n",
        "correlation = experience.corr(age)\n",
        "correlation"
      ],
      "execution_count": null,
      "outputs": []
    },
    {
      "cell_type": "code",
      "metadata": {
        "id": "DtzNIpZI5zGa",
        "colab_type": "code",
        "colab": {
          "base_uri": "https://localhost:8080/",
          "height": 204
        },
        "outputId": "a095739d-cbd7-489e-fd7c-7a6e1a6f7e4f"
      },
      "source": [
        "df=df.drop(['Experience'],axis=1)\n",
        "df.head(5)"
      ],
      "execution_count": 337,
      "outputs": [
        {
          "output_type": "execute_result",
          "data": {
            "text/html": [
              "<div>\n",
              "<style scoped>\n",
              "    .dataframe tbody tr th:only-of-type {\n",
              "        vertical-align: middle;\n",
              "    }\n",
              "\n",
              "    .dataframe tbody tr th {\n",
              "        vertical-align: top;\n",
              "    }\n",
              "\n",
              "    .dataframe thead th {\n",
              "        text-align: right;\n",
              "    }\n",
              "</style>\n",
              "<table border=\"1\" class=\"dataframe\">\n",
              "  <thead>\n",
              "    <tr style=\"text-align: right;\">\n",
              "      <th></th>\n",
              "      <th>Age</th>\n",
              "      <th>Income</th>\n",
              "      <th>Family</th>\n",
              "      <th>CCAvg</th>\n",
              "      <th>Education</th>\n",
              "      <th>Mortgage</th>\n",
              "      <th>Personal Loan</th>\n",
              "      <th>Securities Account</th>\n",
              "      <th>CD Account</th>\n",
              "      <th>Online</th>\n",
              "      <th>CreditCard</th>\n",
              "    </tr>\n",
              "  </thead>\n",
              "  <tbody>\n",
              "    <tr>\n",
              "      <th>0</th>\n",
              "      <td>25</td>\n",
              "      <td>49</td>\n",
              "      <td>4</td>\n",
              "      <td>1.6</td>\n",
              "      <td>1</td>\n",
              "      <td>0</td>\n",
              "      <td>0</td>\n",
              "      <td>1</td>\n",
              "      <td>0</td>\n",
              "      <td>0</td>\n",
              "      <td>0</td>\n",
              "    </tr>\n",
              "    <tr>\n",
              "      <th>1</th>\n",
              "      <td>45</td>\n",
              "      <td>34</td>\n",
              "      <td>3</td>\n",
              "      <td>1.5</td>\n",
              "      <td>1</td>\n",
              "      <td>0</td>\n",
              "      <td>0</td>\n",
              "      <td>1</td>\n",
              "      <td>0</td>\n",
              "      <td>0</td>\n",
              "      <td>0</td>\n",
              "    </tr>\n",
              "    <tr>\n",
              "      <th>2</th>\n",
              "      <td>39</td>\n",
              "      <td>11</td>\n",
              "      <td>1</td>\n",
              "      <td>1.0</td>\n",
              "      <td>1</td>\n",
              "      <td>0</td>\n",
              "      <td>0</td>\n",
              "      <td>0</td>\n",
              "      <td>0</td>\n",
              "      <td>0</td>\n",
              "      <td>0</td>\n",
              "    </tr>\n",
              "    <tr>\n",
              "      <th>3</th>\n",
              "      <td>35</td>\n",
              "      <td>100</td>\n",
              "      <td>1</td>\n",
              "      <td>2.7</td>\n",
              "      <td>2</td>\n",
              "      <td>0</td>\n",
              "      <td>0</td>\n",
              "      <td>0</td>\n",
              "      <td>0</td>\n",
              "      <td>0</td>\n",
              "      <td>0</td>\n",
              "    </tr>\n",
              "    <tr>\n",
              "      <th>4</th>\n",
              "      <td>35</td>\n",
              "      <td>45</td>\n",
              "      <td>4</td>\n",
              "      <td>1.0</td>\n",
              "      <td>2</td>\n",
              "      <td>0</td>\n",
              "      <td>0</td>\n",
              "      <td>0</td>\n",
              "      <td>0</td>\n",
              "      <td>0</td>\n",
              "      <td>1</td>\n",
              "    </tr>\n",
              "  </tbody>\n",
              "</table>\n",
              "</div>"
            ],
            "text/plain": [
              "   Age  Income  Family  ...  CD Account  Online  CreditCard\n",
              "0   25      49       4  ...           0       0           0\n",
              "1   45      34       3  ...           0       0           0\n",
              "2   39      11       1  ...           0       0           0\n",
              "3   35     100       1  ...           0       0           0\n",
              "4   35      45       4  ...           0       0           1\n",
              "\n",
              "[5 rows x 11 columns]"
            ]
          },
          "metadata": {
            "tags": []
          },
          "execution_count": 337
        }
      ]
    },
    {
      "cell_type": "markdown",
      "metadata": {
        "id": "4j5Ia4Bih41R",
        "colab_type": "text"
      },
      "source": [
        " **2.2 Dropping Duplicates**"
      ]
    },
    {
      "cell_type": "code",
      "metadata": {
        "id": "aGEW-0Z0vWnF",
        "colab_type": "code",
        "colab": {
          "base_uri": "https://localhost:8080/",
          "height": 34
        },
        "outputId": "666fd334-7c47-4370-f803-d3b0431ebcc7"
      },
      "source": [
        "duplicate_rows_df=df[df.duplicated()]\n",
        "print(\"No.Of Duplicate Rows Are :\",duplicate_rows_df.shape)"
      ],
      "execution_count": 336,
      "outputs": [
        {
          "output_type": "stream",
          "text": [
            "No.Of Duplicate Rows Are : (13, 12)\n"
          ],
          "name": "stdout"
        }
      ]
    },
    {
      "cell_type": "code",
      "metadata": {
        "id": "-AYZmApOMUTI",
        "colab_type": "code",
        "colab": {
          "base_uri": "https://localhost:8080/",
          "height": 34
        },
        "outputId": "01efb604-6fe5-4ed1-ed96-89214ac4aa7b"
      },
      "source": [
        "df.drop_duplicates()\n",
        "df.shape"
      ],
      "execution_count": 338,
      "outputs": [
        {
          "output_type": "execute_result",
          "data": {
            "text/plain": [
              "(5000, 11)"
            ]
          },
          "metadata": {
            "tags": []
          },
          "execution_count": 338
        }
      ]
    },
    {
      "cell_type": "markdown",
      "metadata": {
        "id": "_EZS-kymNEyN",
        "colab_type": "text"
      },
      "source": [
        "Since the dimensionality of the array remains same,there are no duplicate rows present to be dropped."
      ]
    },
    {
      "cell_type": "markdown",
      "metadata": {
        "id": "4R2xwIzPiCgX",
        "colab_type": "text"
      },
      "source": [
        "**2.3 Missing Values**"
      ]
    },
    {
      "cell_type": "code",
      "metadata": {
        "id": "aoG7boOtKfnc",
        "colab_type": "code",
        "colab": {}
      },
      "source": [
        "df.isnull().sum()"
      ],
      "execution_count": null,
      "outputs": []
    },
    {
      "cell_type": "markdown",
      "metadata": {
        "id": "Jn7yJRZqLFQV",
        "colab_type": "text"
      },
      "source": [
        "Missing values are replaced with the measures of central tendency - mean, median, and mode and there are no missing values prsent in the data."
      ]
    },
    {
      "cell_type": "markdown",
      "metadata": {
        "id": "ADpt3wU4icQv",
        "colab_type": "text"
      },
      "source": [
        "**3. EXPLORATORY DATA ANALYSIS**"
      ]
    },
    {
      "cell_type": "markdown",
      "metadata": {
        "id": "dDbCPdEeG5tH",
        "colab_type": "text"
      },
      "source": [
        "**Number of unique elements in each column**"
      ]
    },
    {
      "cell_type": "code",
      "metadata": {
        "id": "DFjXYgwZEj5V",
        "colab_type": "code",
        "colab": {
          "base_uri": "https://localhost:8080/",
          "height": 221
        },
        "outputId": "9fe481d7-7772-4589-a8b5-8e598daf07bc"
      },
      "source": [
        "df.nunique()"
      ],
      "execution_count": 339,
      "outputs": [
        {
          "output_type": "execute_result",
          "data": {
            "text/plain": [
              "Age                    45\n",
              "Income                162\n",
              "Family                  4\n",
              "CCAvg                 108\n",
              "Education               3\n",
              "Mortgage              347\n",
              "Personal Loan           2\n",
              "Securities Account      2\n",
              "CD Account              2\n",
              "Online                  2\n",
              "CreditCard              2\n",
              "dtype: int64"
            ]
          },
          "metadata": {
            "tags": []
          },
          "execution_count": 339
        }
      ]
    },
    {
      "cell_type": "markdown",
      "metadata": {
        "id": "vPXooQ1TJdZE",
        "colab_type": "text"
      },
      "source": [
        "**Number of people with zero mortgage**"
      ]
    },
    {
      "cell_type": "code",
      "metadata": {
        "id": "a1RSC-5uF3pd",
        "colab_type": "code",
        "colab": {
          "base_uri": "https://localhost:8080/",
          "height": 34
        },
        "outputId": "a42e10af-14a9-4f9a-f1bf-5ff590bc0cd2"
      },
      "source": [
        "print((df['Mortgage'].values == 0).sum())"
      ],
      "execution_count": 340,
      "outputs": [
        {
          "output_type": "stream",
          "text": [
            "3462\n"
          ],
          "name": "stdout"
        }
      ]
    },
    {
      "cell_type": "markdown",
      "metadata": {
        "id": "E4E3kVRIJiRN",
        "colab_type": "text"
      },
      "source": [
        "**Number of people with zero credit card spending per month**"
      ]
    },
    {
      "cell_type": "code",
      "metadata": {
        "id": "K1-PgR2_GObr",
        "colab_type": "code",
        "colab": {}
      },
      "source": [
        "print((df['CCAvg'].values==0).sum())"
      ],
      "execution_count": null,
      "outputs": []
    },
    {
      "cell_type": "markdown",
      "metadata": {
        "id": "z2FkniqiKBMt",
        "colab_type": "text"
      },
      "source": [
        "**Value counts of all categorical columns**\n"
      ]
    },
    {
      "cell_type": "code",
      "metadata": {
        "id": "EvkVEJ6TKGaM",
        "colab_type": "code",
        "colab": {
          "base_uri": "https://localhost:8080/",
          "height": 663
        },
        "outputId": "dbf501ad-9327-43b3-d7c7-84df5141db3d"
      },
      "source": [
        "categorical_columns = ['Family', 'Education', 'Securities Account', 'CD Account', 'Online', 'CreditCard', 'Personal Loan']\n",
        "\n",
        "for column in categorical_columns:\n",
        "    print(f'Value counts for {column} column:')\n",
        "    print(df[column].value_counts())\n",
        "    print()"
      ],
      "execution_count": 341,
      "outputs": [
        {
          "output_type": "stream",
          "text": [
            "Value counts for Family column:\n",
            "1    1472\n",
            "2    1296\n",
            "4    1222\n",
            "3    1010\n",
            "Name: Family, dtype: int64\n",
            "\n",
            "Value counts for Education column:\n",
            "1    2096\n",
            "3    1501\n",
            "2    1403\n",
            "Name: Education, dtype: int64\n",
            "\n",
            "Value counts for Securities Account column:\n",
            "0    4478\n",
            "1     522\n",
            "Name: Securities Account, dtype: int64\n",
            "\n",
            "Value counts for CD Account column:\n",
            "0    4698\n",
            "1     302\n",
            "Name: CD Account, dtype: int64\n",
            "\n",
            "Value counts for Online column:\n",
            "1    2984\n",
            "0    2016\n",
            "Name: Online, dtype: int64\n",
            "\n",
            "Value counts for CreditCard column:\n",
            "0    3530\n",
            "1    1470\n",
            "Name: CreditCard, dtype: int64\n",
            "\n",
            "Value counts for Personal Loan column:\n",
            "0    4520\n",
            "1     480\n",
            "Name: Personal Loan, dtype: int64\n",
            "\n"
          ],
          "name": "stdout"
        }
      ]
    },
    {
      "cell_type": "markdown",
      "metadata": {
        "id": "DS47Z6D8etvm",
        "colab_type": "text"
      },
      "source": [
        "**Univariate Analysis**"
      ]
    },
    {
      "cell_type": "code",
      "metadata": {
        "id": "0__r9MhjLoly",
        "colab_type": "code",
        "colab": {}
      },
      "source": [
        "sns.distplot(df.Age)\n",
        "##Age has a symmetric distribution."
      ],
      "execution_count": null,
      "outputs": []
    },
    {
      "cell_type": "code",
      "metadata": {
        "id": "8rQ1-EILLxRq",
        "colab_type": "code",
        "colab": {}
      },
      "source": [
        "sns.distplot(df.Income)\n",
        "##Income has a right skewed distribution."
      ],
      "execution_count": null,
      "outputs": []
    },
    {
      "cell_type": "code",
      "metadata": {
        "id": "TZ2ylK3FL2Xa",
        "colab_type": "code",
        "colab": {
          "base_uri": "https://localhost:8080/",
          "height": 296
        },
        "outputId": "38dba322-6fe2-4f91-9bc6-953658478295"
      },
      "source": [
        "sns.distplot(df.CCAvg)\n",
        "##CCAvg has a right skewed distribution."
      ],
      "execution_count": 394,
      "outputs": [
        {
          "output_type": "execute_result",
          "data": {
            "text/plain": [
              "<matplotlib.axes._subplots.AxesSubplot at 0x7fed54a03630>"
            ]
          },
          "metadata": {
            "tags": []
          },
          "execution_count": 394
        },
        {
          "output_type": "display_data",
          "data": {
            "image/png": "[encoded data removed]",
            "text/plain": [
              "<Figure size 432x288 with 1 Axes>"
            ]
          },
          "metadata": {
            "tags": [],
            "needs_background": "light"
          }
        }
      ]
    },
    {
      "cell_type": "code",
      "metadata": {
        "id": "Xndlfs0gL7Xh",
        "colab_type": "code",
        "colab": {
          "base_uri": "https://localhost:8080/",
          "height": 296
        },
        "outputId": "04574b3a-1be5-4522-f87b-53113368db83"
      },
      "source": [
        "sns.distplot(df.Mortgage)"
      ],
      "execution_count": 396,
      "outputs": [
        {
          "output_type": "execute_result",
          "data": {
            "text/plain": [
              "<matplotlib.axes._subplots.AxesSubplot at 0x7fed545d8cf8>"
            ]
          },
          "metadata": {
            "tags": []
          },
          "execution_count": 396
        },
        {
          "output_type": "display_data",
          "data": {
            "image/png": "[encoded data removed]",
            "text/plain": [
              "<Figure size 432x288 with 1 Axes>"
            ]
          },
          "metadata": {
            "tags": [],
            "needs_background": "light"
          }
        }
      ]
    },
    {
      "cell_type": "code",
      "metadata": {
        "id": "2qsYszg1MAbp",
        "colab_type": "code",
        "colab": {
          "base_uri": "https://localhost:8080/",
          "height": 296
        },
        "outputId": "10338c6d-5b07-4e0d-8815-14ebdb6096f2"
      },
      "source": [
        "sns.countplot(df.Family)"
      ],
      "execution_count": 397,
      "outputs": [
        {
          "output_type": "execute_result",
          "data": {
            "text/plain": [
              "<matplotlib.axes._subplots.AxesSubplot at 0x7fed5372d080>"
            ]
          },
          "metadata": {
            "tags": []
          },
          "execution_count": 397
        },
        {
          "output_type": "display_data",
          "data": {
            "image/png": "[encoded data removed]",
            "text/plain": [
              "<Figure size 432x288 with 1 Axes>"
            ]
          },
          "metadata": {
            "tags": [],
            "needs_background": "light"
          }
        }
      ]
    },
    {
      "cell_type": "code",
      "metadata": {
        "id": "anaLOzE4MDT_",
        "colab_type": "code",
        "colab": {}
      },
      "source": [
        "sns.countplot(df.Education)"
      ],
      "execution_count": null,
      "outputs": []
    },
    {
      "cell_type": "code",
      "metadata": {
        "id": "cjDkfdWUMGjK",
        "colab_type": "code",
        "colab": {}
      },
      "source": [
        "plt.hist(df['Mortgage'])"
      ],
      "execution_count": null,
      "outputs": []
    },
    {
      "cell_type": "markdown",
      "metadata": {
        "id": "v7p7fN6wiRNS",
        "colab_type": "text"
      },
      "source": [
        "**Bivariate Analysis**"
      ]
    },
    {
      "cell_type": "code",
      "metadata": {
        "id": "4xGqENYvev9u",
        "colab_type": "code",
        "colab": {
          "base_uri": "https://localhost:8080/",
          "height": 296
        },
        "outputId": "ab6898a7-ef99-456e-901e-5783a7f43627"
      },
      "source": [
        "sns.boxplot(x='Education',y='Income',hue='Personal Loan',data=df)"
      ],
      "execution_count": 342,
      "outputs": [
        {
          "output_type": "execute_result",
          "data": {
            "text/plain": [
              "<matplotlib.axes._subplots.AxesSubplot at 0x7fed54a8d2e8>"
            ]
          },
          "metadata": {
            "tags": []
          },
          "execution_count": 342
        },
        {
          "output_type": "display_data",
          "data": {
            "image/png": "[encoded data removed]",
            "text/plain": [
              "<Figure size 432x288 with 1 Axes>"
            ]
          },
          "metadata": {
            "tags": [],
            "needs_background": "light"
          }
        }
      ]
    },
    {
      "cell_type": "code",
      "metadata": {
        "id": "E862sRC8MTch",
        "colab_type": "code",
        "colab": {
          "base_uri": "https://localhost:8080/",
          "height": 296
        },
        "outputId": "98ff4d93-5746-417a-a38c-025fc1553120"
      },
      "source": [
        "sns.countplot(x=\"Securities Account\", data=df,hue=\"Personal Loan\")"
      ],
      "execution_count": 343,
      "outputs": [
        {
          "output_type": "execute_result",
          "data": {
            "text/plain": [
              "<matplotlib.axes._subplots.AxesSubplot at 0x7fed545729b0>"
            ]
          },
          "metadata": {
            "tags": []
          },
          "execution_count": 343
        },
        {
          "output_type": "display_data",
          "data": {
            "image/png": "[encoded data removed]",
            "text/plain": [
              "<Figure size 432x288 with 1 Axes>"
            ]
          },
          "metadata": {
            "tags": [],
            "needs_background": "light"
          }
        }
      ]
    },
    {
      "cell_type": "code",
      "metadata": {
        "id": "MNjumTkWMX6y",
        "colab_type": "code",
        "colab": {
          "base_uri": "https://localhost:8080/",
          "height": 482
        },
        "outputId": "dc65a8d8-668a-4acc-eecf-b0baed0621dc"
      },
      "source": [
        "data=pd.DataFrame(df['Personal Loan'].value_counts()).reset_index()\n",
        "data.columns=['Labels','Personal Loan']\n",
        "fig1,ax1=plt.subplots(figsize=(10,8))\n",
        "explode=(0,0.15)\n",
        "ax1.pie(data['Personal Loan'],explode=explode,autopct='%1.1f%%',shadow=True,startangle=70)\n",
        "ax1.axis('Equal')\n",
        "plt.title('Personal Loan Percentage')\n",
        "plt.show()\n",
        "\n",
        "##9.6% Get Approved For Personal Loans."
      ],
      "execution_count": 344,
      "outputs": [
        {
          "output_type": "display_data",
          "data": {
            "image/png": "[encoded data removed]",
            "text/plain": [
              "<Figure size 720x576 with 1 Axes>"
            ]
          },
          "metadata": {
            "tags": []
          }
        }
      ]
    },
    {
      "cell_type": "code",
      "metadata": {
        "id": "Uhm0hFK8Mrr9",
        "colab_type": "code",
        "colab": {}
      },
      "source": [
        "corr = df.corr()"
      ],
      "execution_count": 347,
      "outputs": []
    },
    {
      "cell_type": "code",
      "metadata": {
        "id": "yu7UHYFdMyPw",
        "colab_type": "code",
        "colab": {
          "base_uri": "https://localhost:8080/",
          "height": 369
        },
        "outputId": "08a264ac-0635-4add-975f-f4afe90fa06d"
      },
      "source": [
        "sns.heatmap(corr, linewidths=0.5)"
      ],
      "execution_count": 348,
      "outputs": [
        {
          "output_type": "execute_result",
          "data": {
            "text/plain": [
              "<matplotlib.axes._subplots.AxesSubplot at 0x7fed54300eb8>"
            ]
          },
          "metadata": {
            "tags": []
          },
          "execution_count": 348
        },
        {
          "output_type": "display_data",
          "data": {
            "image/png": "[encoded data removed]",
            "text/plain": [
              "<Figure size 432x288 with 2 Axes>"
            ]
          },
          "metadata": {
            "tags": [],
            "needs_background": "light"
          }
        }
      ]
    },
    {
      "cell_type": "markdown",
      "metadata": {
        "id": "VFIuri2uj5Dg",
        "colab_type": "text"
      },
      "source": [
        "**4. Transformations for the feature variables**"
      ]
    },
    {
      "cell_type": "markdown",
      "metadata": {
        "id": "BeLSnGTYrIT2",
        "colab_type": "text"
      },
      "source": [
        "**Feature Scaling**"
      ]
    },
    {
      "cell_type": "code",
      "metadata": {
        "id": "zOG3kkjiD53N",
        "colab_type": "code",
        "colab": {}
      },
      "source": [
        "from sklearn.preprocessing import MinMaxScaler"
      ],
      "execution_count": 352,
      "outputs": []
    },
    {
      "cell_type": "code",
      "metadata": {
        "id": "mP6t7RTbD-n1",
        "colab_type": "code",
        "colab": {}
      },
      "source": [
        "columns_to_scale = ['Age', 'Income', 'Family', 'CCAvg', 'Education', 'Mortgage']\n",
        "\n",
        "for column in columns_to_scale:\n",
        "    scaler = MinMaxScaler()\n",
        "    df[column] = scaler.fit_transform(df[column].values.reshape(-1, 1))"
      ],
      "execution_count": 353,
      "outputs": []
    },
    {
      "cell_type": "code",
      "metadata": {
        "id": "2IIj7QdRC3RG",
        "colab_type": "code",
        "colab": {
          "base_uri": "https://localhost:8080/",
          "height": 204
        },
        "outputId": "a7d448c5-fec3-4587-d8d4-eb97be45eade"
      },
      "source": [
        "df.head()"
      ],
      "execution_count": 354,
      "outputs": [
        {
          "output_type": "execute_result",
          "data": {
            "text/html": [
              "<div>\n",
              "<style scoped>\n",
              "    .dataframe tbody tr th:only-of-type {\n",
              "        vertical-align: middle;\n",
              "    }\n",
              "\n",
              "    .dataframe tbody tr th {\n",
              "        vertical-align: top;\n",
              "    }\n",
              "\n",
              "    .dataframe thead th {\n",
              "        text-align: right;\n",
              "    }\n",
              "</style>\n",
              "<table border=\"1\" class=\"dataframe\">\n",
              "  <thead>\n",
              "    <tr style=\"text-align: right;\">\n",
              "      <th></th>\n",
              "      <th>Age</th>\n",
              "      <th>Income</th>\n",
              "      <th>Family</th>\n",
              "      <th>CCAvg</th>\n",
              "      <th>Education</th>\n",
              "      <th>Mortgage</th>\n",
              "      <th>Personal Loan</th>\n",
              "      <th>Securities Account</th>\n",
              "      <th>CD Account</th>\n",
              "      <th>Online</th>\n",
              "      <th>CreditCard</th>\n",
              "    </tr>\n",
              "  </thead>\n",
              "  <tbody>\n",
              "    <tr>\n",
              "      <th>0</th>\n",
              "      <td>0.045455</td>\n",
              "      <td>0.189815</td>\n",
              "      <td>1.000000</td>\n",
              "      <td>0.16</td>\n",
              "      <td>0.0</td>\n",
              "      <td>0.0</td>\n",
              "      <td>0</td>\n",
              "      <td>1</td>\n",
              "      <td>0</td>\n",
              "      <td>0</td>\n",
              "      <td>0</td>\n",
              "    </tr>\n",
              "    <tr>\n",
              "      <th>1</th>\n",
              "      <td>0.500000</td>\n",
              "      <td>0.120370</td>\n",
              "      <td>0.666667</td>\n",
              "      <td>0.15</td>\n",
              "      <td>0.0</td>\n",
              "      <td>0.0</td>\n",
              "      <td>0</td>\n",
              "      <td>1</td>\n",
              "      <td>0</td>\n",
              "      <td>0</td>\n",
              "      <td>0</td>\n",
              "    </tr>\n",
              "    <tr>\n",
              "      <th>2</th>\n",
              "      <td>0.363636</td>\n",
              "      <td>0.013889</td>\n",
              "      <td>0.000000</td>\n",
              "      <td>0.10</td>\n",
              "      <td>0.0</td>\n",
              "      <td>0.0</td>\n",
              "      <td>0</td>\n",
              "      <td>0</td>\n",
              "      <td>0</td>\n",
              "      <td>0</td>\n",
              "      <td>0</td>\n",
              "    </tr>\n",
              "    <tr>\n",
              "      <th>3</th>\n",
              "      <td>0.272727</td>\n",
              "      <td>0.425926</td>\n",
              "      <td>0.000000</td>\n",
              "      <td>0.27</td>\n",
              "      <td>0.5</td>\n",
              "      <td>0.0</td>\n",
              "      <td>0</td>\n",
              "      <td>0</td>\n",
              "      <td>0</td>\n",
              "      <td>0</td>\n",
              "      <td>0</td>\n",
              "    </tr>\n",
              "    <tr>\n",
              "      <th>4</th>\n",
              "      <td>0.272727</td>\n",
              "      <td>0.171296</td>\n",
              "      <td>1.000000</td>\n",
              "      <td>0.10</td>\n",
              "      <td>0.5</td>\n",
              "      <td>0.0</td>\n",
              "      <td>0</td>\n",
              "      <td>0</td>\n",
              "      <td>0</td>\n",
              "      <td>0</td>\n",
              "      <td>1</td>\n",
              "    </tr>\n",
              "  </tbody>\n",
              "</table>\n",
              "</div>"
            ],
            "text/plain": [
              "        Age    Income    Family  ...  CD Account  Online  CreditCard\n",
              "0  0.045455  0.189815  1.000000  ...           0       0           0\n",
              "1  0.500000  0.120370  0.666667  ...           0       0           0\n",
              "2  0.363636  0.013889  0.000000  ...           0       0           0\n",
              "3  0.272727  0.425926  0.000000  ...           0       0           0\n",
              "4  0.272727  0.171296  1.000000  ...           0       0           1\n",
              "\n",
              "[5 rows x 11 columns]"
            ]
          },
          "metadata": {
            "tags": []
          },
          "execution_count": 354
        }
      ]
    },
    {
      "cell_type": "markdown",
      "metadata": {
        "id": "b3dkM6fRQE49",
        "colab_type": "text"
      },
      "source": [
        "**5. Splitting The Data Into Training And Test Set In The Ratio Of 70:30**"
      ]
    },
    {
      "cell_type": "code",
      "metadata": {
        "id": "A8FWFVjDEH5U",
        "colab_type": "code",
        "colab": {
          "base_uri": "https://localhost:8080/",
          "height": 34
        },
        "outputId": "d57013eb-a1cb-4a97-fe39-490169e9b620"
      },
      "source": [
        "x = df.drop(['Personal Loan'], axis=1)\n",
        "y = df['Personal Loan'].values\n",
        "\n",
        "x.shape, y.shape"
      ],
      "execution_count": 355,
      "outputs": [
        {
          "output_type": "execute_result",
          "data": {
            "text/plain": [
              "((5000, 10), (5000,))"
            ]
          },
          "metadata": {
            "tags": []
          },
          "execution_count": 355
        }
      ]
    },
    {
      "cell_type": "code",
      "metadata": {
        "id": "A5MELfb3RCtf",
        "colab_type": "code",
        "colab": {
          "base_uri": "https://localhost:8080/",
          "height": 34
        },
        "outputId": "30c2726a-f06a-47ba-ce17-bcbce1c8cbf3"
      },
      "source": [
        "from sklearn.model_selection import train_test_split\n",
        "\n",
        "x_train, x_test, y_train, y_test = train_test_split(x, y, test_size=0.3,random_state=0)\n",
        "x_train.shape, x_test.shape, y_train.shape, y_test.shape"
      ],
      "execution_count": 356,
      "outputs": [
        {
          "output_type": "execute_result",
          "data": {
            "text/plain": [
              "((3500, 10), (1500, 10), (3500,), (1500,))"
            ]
          },
          "metadata": {
            "tags": []
          },
          "execution_count": 356
        }
      ]
    },
    {
      "cell_type": "code",
      "metadata": {
        "id": "OIbe7CHeJZ5R",
        "colab_type": "code",
        "colab": {}
      },
      "source": [
        "class_names = ['Will Not Take Loan', 'Will Take Loan']"
      ],
      "execution_count": 360,
      "outputs": []
    },
    {
      "cell_type": "markdown",
      "metadata": {
        "id": "Y1id0a_qLwHU",
        "colab_type": "text"
      },
      "source": [
        "**6. Logistic Regression**"
      ]
    },
    {
      "cell_type": "code",
      "metadata": {
        "id": "JEdaF9WmLvz_",
        "colab_type": "code",
        "colab": {}
      },
      "source": [
        "from sklearn.linear_model import LogisticRegression\n"
      ],
      "execution_count": 400,
      "outputs": []
    },
    {
      "cell_type": "code",
      "metadata": {
        "id": "xWS1zZqYKyFm",
        "colab_type": "code",
        "colab": {}
      },
      "source": [
        "model=LogisticRegression()"
      ],
      "execution_count": 401,
      "outputs": []
    },
    {
      "cell_type": "code",
      "metadata": {
        "id": "yL-XRTNyKwjT",
        "colab_type": "code",
        "colab": {
          "base_uri": "https://localhost:8080/",
          "height": 102
        },
        "outputId": "34402185-a3ed-4939-96ef-d4d7c832fe7d"
      },
      "source": [
        "model.fit(x_train,y_train)"
      ],
      "execution_count": 402,
      "outputs": [
        {
          "output_type": "execute_result",
          "data": {
            "text/plain": [
              "LogisticRegression(C=1.0, class_weight=None, dual=False, fit_intercept=True,\n",
              "                   intercept_scaling=1, l1_ratio=None, max_iter=100,\n",
              "                   multi_class='auto', n_jobs=None, penalty='l2',\n",
              "                   random_state=None, solver='lbfgs', tol=0.0001, verbose=0,\n",
              "                   warm_start=False)"
            ]
          },
          "metadata": {
            "tags": []
          },
          "execution_count": 402
        }
      ]
    },
    {
      "cell_type": "code",
      "metadata": {
        "id": "OWaM6gvmK3Bh",
        "colab_type": "code",
        "colab": {}
      },
      "source": [
        "y_predict=model.predict(x_test)"
      ],
      "execution_count": 403,
      "outputs": []
    },
    {
      "cell_type": "code",
      "metadata": {
        "id": "8Nvh0AeXK5Os",
        "colab_type": "code",
        "colab": {
          "base_uri": "https://localhost:8080/",
          "height": 34
        },
        "outputId": "34e71584-d8f7-49d5-cbb4-525f796552be"
      },
      "source": [
        "print(y_predict)"
      ],
      "execution_count": 404,
      "outputs": [
        {
          "output_type": "stream",
          "text": [
            "[0 0 0 ... 0 0 0]\n"
          ],
          "name": "stdout"
        }
      ]
    },
    {
      "cell_type": "markdown",
      "metadata": {
        "id": "kAsi1EZgm2Vu",
        "colab_type": "text"
      },
      "source": [
        "**7. Printing All The Metrics Related For Evaluating The Model Performance**"
      ]
    },
    {
      "cell_type": "code",
      "metadata": {
        "id": "pBCKRGnWM2h3",
        "colab_type": "code",
        "colab": {}
      },
      "source": [
        "from sklearn import metrics\n",
        "from sklearn.metrics import plot_confusion_matrix, plot_roc_curve, plot_precision_recall_curve\n",
        "from sklearn.metrics import precision_score, recall_score"
      ],
      "execution_count": 405,
      "outputs": []
    },
    {
      "cell_type": "code",
      "metadata": {
        "id": "imH6Yr6inD34",
        "colab_type": "code",
        "colab": {
          "base_uri": "https://localhost:8080/",
          "height": 68
        },
        "outputId": "2922ed6a-8c1b-4e66-83ec-d1d31a5f2df9"
      },
      "source": [
        "print('Mean Absolute Error: ', metrics.mean_absolute_error(y_test,y_predict))\n",
        "print('Root Mean Squared Error:', np.sqrt(metrics.mean_squared_error(y_test,y_predict)))\n",
        "print('R2 Score:', metrics.r2_score(y_test,y_predict))"
      ],
      "execution_count": 406,
      "outputs": [
        {
          "output_type": "stream",
          "text": [
            "Mean Absolute Error:  0.048666666666666664\n",
            "Root Mean Squared Error: 0.2206052281036573\n",
            "R2 Score: 0.376480502915452\n"
          ],
          "name": "stdout"
        }
      ]
    },
    {
      "cell_type": "code",
      "metadata": {
        "id": "sI-VfRvjn5HC",
        "colab_type": "code",
        "colab": {
          "base_uri": "https://localhost:8080/",
          "height": 34
        },
        "outputId": "04fc6ffb-0d83-41e9-a70b-f5397bb9c2e4"
      },
      "source": [
        "print(metrics.accuracy_score(y_test,y_predict))"
      ],
      "execution_count": 407,
      "outputs": [
        {
          "output_type": "stream",
          "text": [
            "0.9513333333333334\n"
          ],
          "name": "stdout"
        }
      ]
    },
    {
      "cell_type": "code",
      "metadata": {
        "id": "anI-9pCgLDJv",
        "colab_type": "code",
        "colab": {
          "base_uri": "https://localhost:8080/",
          "height": 953
        },
        "outputId": "d791421e-3d31-47f6-c675-18a26a7a23e5"
      },
      "source": [
        "print('Logistic Regression Results: ')\n",
        "\n",
        "train_score = model.score(x_train, y_train)\n",
        "print('Training Accuracy:', train_score.round(2))\n",
        "test_score = model.score(x_test, y_test)\n",
        "print('Testing Accuracy:', test_score.round(2))\n",
        "\n",
        "y_pred_logi = model.predict(x_test)\n",
        "\n",
        "precision_logi = precision_score(y_test, y_pred_logi, labels=class_names).round(2)\n",
        "print('Precision:', precision_logi)\n",
        "recall_logi = recall_score(y_test, y_pred_logi).round(2)\n",
        "print('Recall:', recall_logi)\n",
        "\n",
        "plot_confusion_matrix(model, x_test, y_test, display_labels=class_names)\n",
        "plt.title('Confusion Matrix for Logistic Regression')\n",
        "\n",
        "plot_roc_curve(model, x_test, y_test)\n",
        "plt.title('ROC Curve for Logistic Regression')\n",
        "\n",
        "plot_precision_recall_curve(model, x_test, y_test)\n",
        "plt.title('Precision-Recall Curve for Logistic Regression')"
      ],
      "execution_count": 408,
      "outputs": [
        {
          "output_type": "stream",
          "text": [
            "Logistic Regression Results: \n",
            "Training Accuracy: 0.95\n",
            "Testing Accuracy: 0.95\n",
            "Precision: 0.81\n",
            "Recall: 0.56\n"
          ],
          "name": "stdout"
        },
        {
          "output_type": "execute_result",
          "data": {
            "text/plain": [
              "Text(0.5, 1.0, 'Precision-Recall Curve for Logistic Regression')"
            ]
          },
          "metadata": {
            "tags": []
          },
          "execution_count": 408
        },
        {
          "output_type": "display_data",
          "data": {
            "image/png": "[encoded data removed]",
            "text/plain": [
              "<Figure size 432x288 with 2 Axes>"
            ]
          },
          "metadata": {
            "tags": [],
            "needs_background": "light"
          }
        },
        {
          "output_type": "display_data",
          "data": {
            "image/png": "[encoded data removed]",
            "text/plain": [
              "<Figure size 432x288 with 1 Axes>"
            ]
          },
          "metadata": {
            "tags": [],
            "needs_background": "light"
          }
        },
        {
          "output_type": "display_data",
          "data": {
            "image/png": "[encoded data removed]",
            "text/plain": [
              "<Figure size 432x288 with 1 Axes>"
            ]
          },
          "metadata": {
            "tags": [],
            "needs_background": "light"
          }
        }
      ]
    },
    {
      "cell_type": "markdown",
      "metadata": {
        "id": "pxb2tGBGn-eQ",
        "colab_type": "text"
      },
      "source": [
        "**8. Building Other Classification Algorithms And Comparing Their Peformance**"
      ]
    },
    {
      "cell_type": "code",
      "metadata": {
        "id": "ITVr5tioSFCX",
        "colab_type": "code",
        "colab": {}
      },
      "source": [
        "from sklearn.model_selection import StratifiedKFold\n",
        "from sklearn.model_selection import KFold\n",
        "from sklearn.model_selection import cross_val_score\n",
        "from sklearn.linear_model import LogisticRegression\n",
        "from sklearn.tree import DecisionTreeClassifier\n",
        "from sklearn.neighbors import KNeighborsClassifier\n",
        "from sklearn.ensemble import RandomForestClassifier\n",
        "from sklearn.naive_bayes import GaussianNB\n",
        "from sklearn.svm import SVC"
      ],
      "execution_count": 413,
      "outputs": []
    },
    {
      "cell_type": "code",
      "metadata": {
        "id": "3B15YIxRRjIN",
        "colab_type": "code",
        "colab": {
          "base_uri": "https://localhost:8080/",
          "height": 119
        },
        "outputId": "1d653139-8b09-44df-d683-fcbc4b13e81d"
      },
      "source": [
        "# Spot Check Algorithms\n",
        "models = []\n",
        "models.append(('LR', LogisticRegression(solver='liblinear', multi_class='ovr')))\n",
        "models.append(('KNN', KNeighborsClassifier()))\n",
        "models.append(('CART', DecisionTreeClassifier()))\n",
        "models.append(('NB', GaussianNB()))\n",
        "models.append(('SVM', SVC(gamma='auto')))\n",
        "models.append(('Random Forest', RandomForestClassifier(n_estimators=100, criterion=\"entropy\")))\n",
        "# evaluate each model in turn\n",
        "results = []\n",
        "names = []\n",
        "for name, model in models:\n",
        "\tkfold = StratifiedKFold(n_splits=10, random_state=1, shuffle=True)\n",
        "\tcv_results = cross_val_score(model, x_train, y_train, cv=kfold, scoring='accuracy')\n",
        "\tresults.append(cv_results)\n",
        "\tnames.append(name)\n",
        "\tprint('%s: %f (%f)' % (name, cv_results.mean(), cv_results.std()))"
      ],
      "execution_count": 414,
      "outputs": [
        {
          "output_type": "stream",
          "text": [
            "LR: 0.947714 (0.007234)\n",
            "KNN: 0.957429 (0.007051)\n",
            "CART: 0.979714 (0.006571)\n",
            "NB: 0.883429 (0.015269)\n",
            "SVM: 0.953714 (0.006490)\n",
            "Random Forest: 0.986857 (0.004815)\n"
          ],
          "name": "stdout"
        }
      ]
    },
    {
      "cell_type": "markdown",
      "metadata": {
        "id": "6cKu_nePPXwA",
        "colab_type": "text"
      },
      "source": [
        "**We Get The Best Result From The Random Forest Classifier**"
      ]
    }
  ]
}